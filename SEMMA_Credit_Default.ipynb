{
  "cells": [
    {
      "cell_type": "markdown",
      "metadata": {
        "id": "view-in-github",
        "colab_type": "text"
      },
      "source": [
        "<a href=\"https://colab.research.google.com/github/darshlukkad/CRISP-DM_SEMMA_KDD/blob/main/SEMMA_Credit_Default.ipynb\" target=\"_parent\"><img src=\"https://colab.research.google.com/assets/colab-badge.svg\" alt=\"Open In Colab\"/></a>"
      ]
    },
    {
      "cell_type": "markdown",
      "id": "9419a7f0",
      "metadata": {
        "id": "9419a7f0"
      },
      "source": [
        "# 📗 SEMMA: Credit Card Default Prediction\n",
        "We follow **SEMMA**: Sample → Explore → Modify → Model → Assess  \n",
        "**Dataset**: `uciml/default-of-credit-card-clients-dataset` (Kaggle)"
      ]
    },
    {
      "cell_type": "markdown",
      "id": "df93dae0",
      "metadata": {
        "id": "df93dae0"
      },
      "source": [
        "# 🚀 Step 1: One-time Kaggle setup (super easy)\n",
        "1. Create a free Kaggle account (https://www.kaggle.com/).\n",
        "2. Go to your Kaggle **Account** → scroll to **API** → click **Create New API Token**.\n",
        "   - This downloads a file named **`kaggle.json`** to your computer.\n",
        "3. In Colab, run the next cell. It will ask you to **upload `kaggle.json`**."
      ]
    },
    {
      "cell_type": "code",
      "execution_count": 1,
      "id": "7033596d",
      "metadata": {
        "colab": {
          "base_uri": "https://localhost:8080/",
          "height": 109
        },
        "id": "7033596d",
        "outputId": "7b5d4f0d-850d-42c9-ef40-482ee11a3b84"
      },
      "outputs": [
        {
          "output_type": "stream",
          "name": "stdout",
          "text": [
            "👉 Please upload your kaggle.json (you get it from Kaggle > Account > Create New API Token).\n"
          ]
        },
        {
          "output_type": "display_data",
          "data": {
            "text/plain": [
              "<IPython.core.display.HTML object>"
            ],
            "text/html": [
              "\n",
              "     <input type=\"file\" id=\"files-64030620-c4bf-48bd-8957-5f4014a39634\" name=\"files[]\" multiple disabled\n",
              "        style=\"border:none\" />\n",
              "     <output id=\"result-64030620-c4bf-48bd-8957-5f4014a39634\">\n",
              "      Upload widget is only available when the cell has been executed in the\n",
              "      current browser session. Please rerun this cell to enable.\n",
              "      </output>\n",
              "      <script>// Copyright 2017 Google LLC\n",
              "//\n",
              "// Licensed under the Apache License, Version 2.0 (the \"License\");\n",
              "// you may not use this file except in compliance with the License.\n",
              "// You may obtain a copy of the License at\n",
              "//\n",
              "//      http://www.apache.org/licenses/LICENSE-2.0\n",
              "//\n",
              "// Unless required by applicable law or agreed to in writing, software\n",
              "// distributed under the License is distributed on an \"AS IS\" BASIS,\n",
              "// WITHOUT WARRANTIES OR CONDITIONS OF ANY KIND, either express or implied.\n",
              "// See the License for the specific language governing permissions and\n",
              "// limitations under the License.\n",
              "\n",
              "/**\n",
              " * @fileoverview Helpers for google.colab Python module.\n",
              " */\n",
              "(function(scope) {\n",
              "function span(text, styleAttributes = {}) {\n",
              "  const element = document.createElement('span');\n",
              "  element.textContent = text;\n",
              "  for (const key of Object.keys(styleAttributes)) {\n",
              "    element.style[key] = styleAttributes[key];\n",
              "  }\n",
              "  return element;\n",
              "}\n",
              "\n",
              "// Max number of bytes which will be uploaded at a time.\n",
              "const MAX_PAYLOAD_SIZE = 100 * 1024;\n",
              "\n",
              "function _uploadFiles(inputId, outputId) {\n",
              "  const steps = uploadFilesStep(inputId, outputId);\n",
              "  const outputElement = document.getElementById(outputId);\n",
              "  // Cache steps on the outputElement to make it available for the next call\n",
              "  // to uploadFilesContinue from Python.\n",
              "  outputElement.steps = steps;\n",
              "\n",
              "  return _uploadFilesContinue(outputId);\n",
              "}\n",
              "\n",
              "// This is roughly an async generator (not supported in the browser yet),\n",
              "// where there are multiple asynchronous steps and the Python side is going\n",
              "// to poll for completion of each step.\n",
              "// This uses a Promise to block the python side on completion of each step,\n",
              "// then passes the result of the previous step as the input to the next step.\n",
              "function _uploadFilesContinue(outputId) {\n",
              "  const outputElement = document.getElementById(outputId);\n",
              "  const steps = outputElement.steps;\n",
              "\n",
              "  const next = steps.next(outputElement.lastPromiseValue);\n",
              "  return Promise.resolve(next.value.promise).then((value) => {\n",
              "    // Cache the last promise value to make it available to the next\n",
              "    // step of the generator.\n",
              "    outputElement.lastPromiseValue = value;\n",
              "    return next.value.response;\n",
              "  });\n",
              "}\n",
              "\n",
              "/**\n",
              " * Generator function which is called between each async step of the upload\n",
              " * process.\n",
              " * @param {string} inputId Element ID of the input file picker element.\n",
              " * @param {string} outputId Element ID of the output display.\n",
              " * @return {!Iterable<!Object>} Iterable of next steps.\n",
              " */\n",
              "function* uploadFilesStep(inputId, outputId) {\n",
              "  const inputElement = document.getElementById(inputId);\n",
              "  inputElement.disabled = false;\n",
              "\n",
              "  const outputElement = document.getElementById(outputId);\n",
              "  outputElement.innerHTML = '';\n",
              "\n",
              "  const pickedPromise = new Promise((resolve) => {\n",
              "    inputElement.addEventListener('change', (e) => {\n",
              "      resolve(e.target.files);\n",
              "    });\n",
              "  });\n",
              "\n",
              "  const cancel = document.createElement('button');\n",
              "  inputElement.parentElement.appendChild(cancel);\n",
              "  cancel.textContent = 'Cancel upload';\n",
              "  const cancelPromise = new Promise((resolve) => {\n",
              "    cancel.onclick = () => {\n",
              "      resolve(null);\n",
              "    };\n",
              "  });\n",
              "\n",
              "  // Wait for the user to pick the files.\n",
              "  const files = yield {\n",
              "    promise: Promise.race([pickedPromise, cancelPromise]),\n",
              "    response: {\n",
              "      action: 'starting',\n",
              "    }\n",
              "  };\n",
              "\n",
              "  cancel.remove();\n",
              "\n",
              "  // Disable the input element since further picks are not allowed.\n",
              "  inputElement.disabled = true;\n",
              "\n",
              "  if (!files) {\n",
              "    return {\n",
              "      response: {\n",
              "        action: 'complete',\n",
              "      }\n",
              "    };\n",
              "  }\n",
              "\n",
              "  for (const file of files) {\n",
              "    const li = document.createElement('li');\n",
              "    li.append(span(file.name, {fontWeight: 'bold'}));\n",
              "    li.append(span(\n",
              "        `(${file.type || 'n/a'}) - ${file.size} bytes, ` +\n",
              "        `last modified: ${\n",
              "            file.lastModifiedDate ? file.lastModifiedDate.toLocaleDateString() :\n",
              "                                    'n/a'} - `));\n",
              "    const percent = span('0% done');\n",
              "    li.appendChild(percent);\n",
              "\n",
              "    outputElement.appendChild(li);\n",
              "\n",
              "    const fileDataPromise = new Promise((resolve) => {\n",
              "      const reader = new FileReader();\n",
              "      reader.onload = (e) => {\n",
              "        resolve(e.target.result);\n",
              "      };\n",
              "      reader.readAsArrayBuffer(file);\n",
              "    });\n",
              "    // Wait for the data to be ready.\n",
              "    let fileData = yield {\n",
              "      promise: fileDataPromise,\n",
              "      response: {\n",
              "        action: 'continue',\n",
              "      }\n",
              "    };\n",
              "\n",
              "    // Use a chunked sending to avoid message size limits. See b/62115660.\n",
              "    let position = 0;\n",
              "    do {\n",
              "      const length = Math.min(fileData.byteLength - position, MAX_PAYLOAD_SIZE);\n",
              "      const chunk = new Uint8Array(fileData, position, length);\n",
              "      position += length;\n",
              "\n",
              "      const base64 = btoa(String.fromCharCode.apply(null, chunk));\n",
              "      yield {\n",
              "        response: {\n",
              "          action: 'append',\n",
              "          file: file.name,\n",
              "          data: base64,\n",
              "        },\n",
              "      };\n",
              "\n",
              "      let percentDone = fileData.byteLength === 0 ?\n",
              "          100 :\n",
              "          Math.round((position / fileData.byteLength) * 100);\n",
              "      percent.textContent = `${percentDone}% done`;\n",
              "\n",
              "    } while (position < fileData.byteLength);\n",
              "  }\n",
              "\n",
              "  // All done.\n",
              "  yield {\n",
              "    response: {\n",
              "      action: 'complete',\n",
              "    }\n",
              "  };\n",
              "}\n",
              "\n",
              "scope.google = scope.google || {};\n",
              "scope.google.colab = scope.google.colab || {};\n",
              "scope.google.colab._files = {\n",
              "  _uploadFiles,\n",
              "  _uploadFilesContinue,\n",
              "};\n",
              "})(self);\n",
              "</script> "
            ]
          },
          "metadata": {}
        },
        {
          "output_type": "stream",
          "name": "stdout",
          "text": [
            "Saving kaggle.json to kaggle.json\n",
            "✅ Installed kaggle.json\n"
          ]
        }
      ],
      "source": [
        "# Install and set up Kaggle API\n",
        "!pip -q install kaggle\n",
        "\n",
        "import os, zipfile, glob, shutil, json, sys\n",
        "from pathlib import Path\n",
        "\n",
        "DATA_DIR = Path(\"data\")\n",
        "DATA_DIR.mkdir(exist_ok=True)\n",
        "\n",
        "# Put kaggle.json in the right place\n",
        "kaggle_dir = Path.home() / \".kaggle\"\n",
        "kaggle_dir.mkdir(exist_ok=True)\n",
        "\n",
        "if not (kaggle_dir / \"kaggle.json\").exists():\n",
        "    try:\n",
        "        from google.colab import files  # will work in Colab\n",
        "        print(\"👉 Please upload your kaggle.json (you get it from Kaggle > Account > Create New API Token).\")\n",
        "        uploaded = files.upload()\n",
        "        assert \"kaggle.json\" in uploaded, \"You must upload a file named kaggle.json\"\n",
        "        with open(kaggle_dir / \"kaggle.json\", \"wb\") as f:\n",
        "            f.write(uploaded[\"kaggle.json\"])\n",
        "        os.chmod(kaggle_dir / \"kaggle.json\", 0o600)\n",
        "        print(\"✅ Installed kaggle.json\")\n",
        "    except Exception as e:\n",
        "        print(\"If you're not in Colab, manually place kaggle.json in\", kaggle_dir)\n",
        "        raise e\n",
        "else:\n",
        "    print(\"✅ kaggle.json already present\")"
      ]
    },
    {
      "cell_type": "markdown",
      "id": "421f8bde",
      "metadata": {
        "id": "421f8bde"
      },
      "source": [
        "# 📥 Step 2: Download the dataset automatically\n",
        "We will use the Kaggle API to download the dataset into the local `data/` folder.\n",
        "If (rarely) Kaggle blocks the download, the next cells will let you **manually upload** the CSV instead."
      ]
    },
    {
      "cell_type": "code",
      "execution_count": 2,
      "id": "3abfe5dd",
      "metadata": {
        "colab": {
          "base_uri": "https://localhost:8080/"
        },
        "id": "3abfe5dd",
        "outputId": "b6d17e23-742c-41b9-be83-30bc2c08660f"
      },
      "outputs": [
        {
          "output_type": "stream",
          "name": "stdout",
          "text": [
            "⏬ Downloading: uciml/default-of-credit-card-clients-dataset\n",
            "Dataset URL: https://www.kaggle.com/datasets/uciml/default-of-credit-card-clients-dataset\n",
            "License(s): CC0-1.0\n",
            "Downloading default-of-credit-card-clients-dataset.zip to data\n",
            "  0% 0.00/0.98M [00:00<?, ?B/s]\n",
            "100% 0.98M/0.98M [00:00<00:00, 991MB/s]\n",
            "📂 Contents of data/: ['UCI_Credit_Card.csv']\n"
          ]
        }
      ],
      "source": [
        "# Download the Kaggle dataset\n",
        "KAGGLE_DATASET = \"uciml/default-of-credit-card-clients-dataset\"\n",
        "print(\"⏬ Downloading:\", KAGGLE_DATASET)\n",
        "!kaggle datasets download -d $KAGGLE_DATASET -p $DATA_DIR --force\n",
        "\n",
        "# Unzip any archives into data/\n",
        "import zipfile, io\n",
        "for z in DATA_DIR.glob(\"*.zip\"):\n",
        "    with zipfile.ZipFile(z, \"r\") as zip_ref:\n",
        "        zip_ref.extractall(DATA_DIR)\n",
        "    z.unlink()\n",
        "\n",
        "print(\"📂 Contents of data/:\", [p.name for p in DATA_DIR.iterdir()])"
      ]
    },
    {
      "cell_type": "markdown",
      "id": "34c36f95",
      "metadata": {
        "id": "34c36f95"
      },
      "source": [
        "# 🆘 If needed: Manual upload fallback\n",
        "If you don't see a CSV in `data/`, run the next cell and upload the CSV from Kaggle manually.\n",
        "(Go to the dataset page on Kaggle and click **Download** to get the zip; extract the CSV and upload here.)"
      ]
    },
    {
      "cell_type": "code",
      "execution_count": 3,
      "id": "27ff43fa",
      "metadata": {
        "colab": {
          "base_uri": "https://localhost:8080/"
        },
        "id": "27ff43fa",
        "outputId": "10de95ff-79e3-4a6b-c315-97b3e6c4d30d"
      },
      "outputs": [
        {
          "output_type": "stream",
          "name": "stdout",
          "text": [
            "✅ CSV already present: ['UCI_Credit_Card.csv']\n"
          ]
        }
      ],
      "source": [
        "from pathlib import Path\n",
        "csvs = list(Path(\"data\").glob(\"*.csv\"))\n",
        "if not csvs:\n",
        "    try:\n",
        "        from google.colab import files\n",
        "        print(\"No CSV detected in data/. Please upload the CSV file now.\")\n",
        "        uploaded = files.upload()\n",
        "        # Save the first uploaded CSV into data/\n",
        "        for k, v in uploaded.items():\n",
        "            if k.lower().endswith(\".csv\"):\n",
        "                with open(Path(\"data\")/k, \"wb\") as f:\n",
        "                    f.write(v)\n",
        "        print(\"✅ Uploaded CSV to data/.\")\n",
        "    except Exception as e:\n",
        "        raise RuntimeError(\"Still no CSV found. Please upload a CSV to data/.\") from e\n",
        "else:\n",
        "    print(\"✅ CSV already present:\", [c.name for c in csvs])"
      ]
    },
    {
      "cell_type": "markdown",
      "id": "1d728131",
      "metadata": {
        "id": "1d728131"
      },
      "source": [
        "# 🧰 Step 3: Imports and reproducibility"
      ]
    },
    {
      "cell_type": "code",
      "execution_count": 4,
      "id": "7c78bf87",
      "metadata": {
        "id": "7c78bf87"
      },
      "outputs": [],
      "source": [
        "import numpy as np, pandas as pd, matplotlib.pyplot as plt\n",
        "from pathlib import Path\n",
        "import warnings, sys, os, re\n",
        "warnings.filterwarnings('ignore')\n",
        "\n",
        "RANDOM_STATE = 42\n",
        "np.random.seed(RANDOM_STATE)"
      ]
    },
    {
      "cell_type": "markdown",
      "id": "9d0dca41",
      "metadata": {
        "id": "9d0dca41"
      },
      "source": [
        "## Load data and basic checks\n",
        "Target: **`default.payment.next.month`** (1 = default, 0 = no default)"
      ]
    },
    {
      "cell_type": "code",
      "execution_count": 5,
      "id": "7f866f43",
      "metadata": {
        "colab": {
          "base_uri": "https://localhost:8080/"
        },
        "id": "7f866f43",
        "outputId": "6c241f8e-efdc-4ea6-eb51-dd0a538b7d94"
      },
      "outputs": [
        {
          "output_type": "stream",
          "name": "stdout",
          "text": [
            "Using CSV: data/UCI_Credit_Card.csv\n",
            "   ID  LIMIT_BAL  SEX  EDUCATION  MARRIAGE  AGE  PAY_0  PAY_2  PAY_3  PAY_4  \\\n",
            "0   1    20000.0    2          2         1   24      2      2     -1     -1   \n",
            "1   2   120000.0    2          2         2   26     -1      2      0      0   \n",
            "2   3    90000.0    2          2         2   34      0      0      0      0   \n",
            "3   4    50000.0    2          2         1   37      0      0      0      0   \n",
            "4   5    50000.0    1          2         1   57     -1      0     -1      0   \n",
            "\n",
            "   ...  BILL_AMT4  BILL_AMT5  BILL_AMT6  PAY_AMT1  PAY_AMT2  PAY_AMT3  \\\n",
            "0  ...        0.0        0.0        0.0       0.0     689.0       0.0   \n",
            "1  ...     3272.0     3455.0     3261.0       0.0    1000.0    1000.0   \n",
            "2  ...    14331.0    14948.0    15549.0    1518.0    1500.0    1000.0   \n",
            "3  ...    28314.0    28959.0    29547.0    2000.0    2019.0    1200.0   \n",
            "4  ...    20940.0    19146.0    19131.0    2000.0   36681.0   10000.0   \n",
            "\n",
            "   PAY_AMT4  PAY_AMT5  PAY_AMT6  default.payment.next.month  \n",
            "0       0.0       0.0       0.0                           1  \n",
            "1    1000.0       0.0    2000.0                           1  \n",
            "2    1000.0    1000.0    5000.0                           0  \n",
            "3    1100.0    1069.0    1000.0                           0  \n",
            "4    9000.0     689.0     679.0                           0  \n",
            "\n",
            "[5 rows x 25 columns]\n",
            "(30000, 25)\n",
            "ID           0\n",
            "LIMIT_BAL    0\n",
            "SEX          0\n",
            "EDUCATION    0\n",
            "MARRIAGE     0\n",
            "AGE          0\n",
            "PAY_0        0\n",
            "PAY_2        0\n",
            "PAY_3        0\n",
            "PAY_4        0\n",
            "dtype: int64\n"
          ]
        }
      ],
      "source": [
        "from pathlib import Path\n",
        "import pandas as pd\n",
        "\n",
        "# Auto-detect CSV (usually 'UCI_Credit_Card.csv')\n",
        "candidates = list(Path(\"data\").glob(\"*.csv\"))\n",
        "assert candidates, \"No CSV found; please ensure the credit dataset CSV is in data/.\"\n",
        "csv_path = None\n",
        "for p in candidates:\n",
        "    if \"UCI\" in p.name or \"Credit\" in p.name or \"default\" in p.name.lower():\n",
        "        csv_path = p\n",
        "        break\n",
        "if csv_path is None:\n",
        "    csv_path = candidates[0]\n",
        "\n",
        "print(\"Using CSV:\", csv_path)\n",
        "df = pd.read_csv(csv_path)\n",
        "print(df.head())\n",
        "print(df.shape)\n",
        "print(df.isna().sum().sort_values(ascending=False).head(10))"
      ]
    },
    {
      "cell_type": "markdown",
      "id": "58c5e39e",
      "metadata": {
        "id": "58c5e39e"
      },
      "source": [
        "## S) Sample\n",
        "Create train/validation/test splits with class stratification."
      ]
    },
    {
      "cell_type": "code",
      "execution_count": 6,
      "id": "8d33eb3b",
      "metadata": {
        "colab": {
          "base_uri": "https://localhost:8080/"
        },
        "id": "8d33eb3b",
        "outputId": "3a6682a5-d210-4a61-a35c-e0029d8348a8"
      },
      "outputs": [
        {
          "output_type": "stream",
          "name": "stdout",
          "text": [
            "Train/Valid/Test: (21000, 23) (4500, 23) (4500, 23)\n"
          ]
        }
      ],
      "source": [
        "from sklearn.model_selection import train_test_split\n",
        "\n",
        "df2 = df.copy()\n",
        "y = df2['default.payment.next.month']\n",
        "X = df2.drop(columns=['default.payment.next.month', 'ID'], errors='ignore')\n",
        "\n",
        "X_train, X_temp, y_train, y_temp = train_test_split(X, y, test_size=0.3, random_state=RANDOM_STATE, stratify=y)\n",
        "X_valid, X_test, y_valid, y_test = train_test_split(X_temp, y_temp, test_size=0.5, random_state=RANDOM_STATE, stratify=y_temp)\n",
        "print(\"Train/Valid/Test:\", X_train.shape, X_valid.shape, X_test.shape)"
      ]
    },
    {
      "cell_type": "markdown",
      "id": "7573034a",
      "metadata": {
        "id": "7573034a"
      },
      "source": [
        "## E) Explore\n",
        "Look at distributions, correlations, and class balance."
      ]
    },
    {
      "cell_type": "code",
      "execution_count": 7,
      "id": "069b4bf9",
      "metadata": {
        "colab": {
          "base_uri": "https://localhost:8080/",
          "height": 396
        },
        "id": "069b4bf9",
        "outputId": "ac96bfa7-c83d-4069-bc5b-b765e4bf1389"
      },
      "outputs": [
        {
          "output_type": "stream",
          "name": "stdout",
          "text": [
            "Class balance:\n",
            " default.payment.next.month\n",
            "0    0.7788\n",
            "1    0.2212\n",
            "Name: proportion, dtype: float64\n"
          ]
        },
        {
          "output_type": "display_data",
          "data": {
            "text/plain": [
              "<Figure size 1000x300 with 1 Axes>"
            ],
            "image/png": "[encoded data removed]"
          },
          "metadata": {}
        }
      ],
      "source": [
        "import matplotlib.pyplot as plt\n",
        "\n",
        "print(\"Class balance:\\n\", y.value_counts(normalize=True))\n",
        "\n",
        "ax = X_train.describe().T['mean'].plot(kind='bar', figsize=(10,3))\n",
        "plt.title('Feature means (train)')\n",
        "plt.tight_layout()\n",
        "plt.show()"
      ]
    },
    {
      "cell_type": "markdown",
      "id": "46f1770d",
      "metadata": {
        "id": "46f1770d"
      },
      "source": [
        "## M) Modify\n",
        "- Scale numeric features\n",
        "- Optional: Select K best features by mutual information"
      ]
    },
    {
      "cell_type": "code",
      "execution_count": 8,
      "id": "642d087c",
      "metadata": {
        "colab": {
          "base_uri": "https://localhost:8080/"
        },
        "id": "642d087c",
        "outputId": "3b949944-11dd-4f1f-da37-3a1e620ff371"
      },
      "outputs": [
        {
          "output_type": "stream",
          "name": "stdout",
          "text": [
            "Prepared numeric columns: 23\n"
          ]
        }
      ],
      "source": [
        "from sklearn.preprocessing import StandardScaler\n",
        "from sklearn.feature_selection import SelectKBest, mutual_info_classif\n",
        "from sklearn.compose import ColumnTransformer\n",
        "from sklearn.pipeline import Pipeline\n",
        "\n",
        "num_cols = X_train.select_dtypes(include='number').columns.tolist()\n",
        "\n",
        "preprocess = ColumnTransformer([\n",
        "    ('num', StandardScaler(), num_cols)\n",
        "])\n",
        "\n",
        "selector = SelectKBest(score_func=mutual_info_classif, k=min(15, len(num_cols)))\n",
        "\n",
        "print(\"Prepared numeric columns:\", len(num_cols))"
      ]
    },
    {
      "cell_type": "markdown",
      "id": "46fe0965",
      "metadata": {
        "id": "46fe0965"
      },
      "source": [
        "## M) Model\n",
        "Train a simple baseline (Logistic Regression) and a stronger model (Gradient Boosting)."
      ]
    },
    {
      "cell_type": "code",
      "execution_count": 9,
      "id": "ce73fd12",
      "metadata": {
        "colab": {
          "base_uri": "https://localhost:8080/"
        },
        "id": "ce73fd12",
        "outputId": "80233bbf-3a0d-4f05-a417-906b6f4a8e80"
      },
      "outputs": [
        {
          "output_type": "stream",
          "name": "stdout",
          "text": [
            "\n",
            "=== LogReg VALIDATION ===\n",
            "              precision    recall  f1-score   support\n",
            "\n",
            "           0      0.872     0.686     0.768      3505\n",
            "           1      0.368     0.644     0.468       995\n",
            "\n",
            "    accuracy                          0.677      4500\n",
            "   macro avg      0.620     0.665     0.618      4500\n",
            "weighted avg      0.760     0.677     0.702      4500\n",
            "\n",
            "ROC-AUC: 0.7132564391142588\n",
            "\n",
            "=== GradientBoosting VALIDATION ===\n",
            "              precision    recall  f1-score   support\n",
            "\n",
            "           0      0.839     0.950     0.891      3505\n",
            "           1      0.667     0.357     0.465       995\n",
            "\n",
            "    accuracy                          0.818      4500\n",
            "   macro avg      0.753     0.653     0.678      4500\n",
            "weighted avg      0.801     0.818     0.797      4500\n",
            "\n",
            "ROC-AUC: 0.7764964623402318\n"
          ]
        }
      ],
      "source": [
        "from sklearn.linear_model import LogisticRegression\n",
        "from sklearn.ensemble import GradientBoostingClassifier\n",
        "from sklearn.metrics import classification_report, roc_auc_score\n",
        "\n",
        "logreg = Pipeline([('prep', preprocess),\n",
        "                   ('sel', selector),\n",
        "                   ('clf', LogisticRegression(max_iter=400, class_weight='balanced', random_state=RANDOM_STATE))])\n",
        "\n",
        "gb = Pipeline([('prep', preprocess),\n",
        "               ('sel', selector),\n",
        "               ('clf', GradientBoostingClassifier(random_state=RANDOM_STATE))])\n",
        "\n",
        "logreg.fit(X_train, y_train)\n",
        "gb.fit(X_train, y_train)\n",
        "\n",
        "def eval_model(model, Xv, yv, name):\n",
        "    pred = model.predict(Xv)\n",
        "    proba = model.predict_proba(Xv)[:,1]\n",
        "    print(f\"\\n=== {name} VALIDATION ===\")\n",
        "    print(classification_report(yv, pred, digits=3))\n",
        "    print(\"ROC-AUC:\", roc_auc_score(yv, proba))\n",
        "\n",
        "eval_model(logreg, X_valid, y_valid, \"LogReg\")\n",
        "eval_model(gb, X_valid, y_valid, \"GradientBoosting\")"
      ]
    },
    {
      "cell_type": "markdown",
      "id": "79a8c5bc",
      "metadata": {
        "id": "79a8c5bc"
      },
      "source": [
        "## A) Assess (Test Set + Lift Chart)\n",
        "Pick the better model (often Gradient Boosting) and produce metrics + **lift**."
      ]
    },
    {
      "cell_type": "code",
      "execution_count": 10,
      "id": "acf12de5",
      "metadata": {
        "colab": {
          "base_uri": "https://localhost:8080/",
          "height": 1000
        },
        "id": "acf12de5",
        "outputId": "da24af98-efb0-483c-b0a4-cd48c2cd362a"
      },
      "outputs": [
        {
          "output_type": "stream",
          "name": "stdout",
          "text": [
            "=== TEST REPORT (Chosen Model) ===\n",
            "              precision    recall  f1-score   support\n",
            "\n",
            "           0      0.837     0.946     0.888      3504\n",
            "           1      0.647     0.350     0.455       996\n",
            "\n",
            "    accuracy                          0.814      4500\n",
            "   macro avg      0.742     0.648     0.671      4500\n",
            "weighted avg      0.795     0.814     0.792      4500\n",
            "\n",
            "TEST ROC-AUC: 0.775001690552163\n"
          ]
        },
        {
          "output_type": "display_data",
          "data": {
            "text/plain": [
              "<Figure size 640x480 with 1 Axes>"
            ],
            "image/png": "[encoded data removed]"
          },
          "metadata": {}
        },
        {
          "output_type": "display_data",
          "data": {
            "text/plain": [
              "<Figure size 640x480 with 1 Axes>"
            ],
            "image/png": "[encoded data removed]"
          },
          "metadata": {}
        },
        {
          "output_type": "display_data",
          "data": {
            "text/plain": [
              "<Figure size 640x480 with 2 Axes>"
            ],
            "image/png": "[encoded data removed]"
          },
          "metadata": {}
        },
        {
          "output_type": "display_data",
          "data": {
            "text/plain": [
              "<Figure size 640x480 with 1 Axes>"
            ],
            "image/png": "[encoded data removed]"
          },
          "metadata": {}
        },
        {
          "output_type": "stream",
          "name": "stdout",
          "text": [
            "        events  count  event_rate      lift  cum_pct_events\n",
            "decile                                                     \n",
            "9          304    450    0.675556  3.052209        0.305221\n",
            "8          201    450    0.446667  2.018072        0.507028\n",
            "7          126    450    0.280000  1.265060        0.633534\n",
            "6           78    450    0.173333  0.783133        0.711847\n",
            "5           67    450    0.148889  0.672691        0.779116\n",
            "4           71    450    0.157778  0.712851        0.850402\n",
            "3           58    450    0.128889  0.582329        0.908635\n",
            "2           37    449    0.082405  0.372313        0.945783\n",
            "1           29    451    0.064302  0.290519        0.974900\n",
            "0           25    450    0.055556  0.251004        1.000000\n",
            "✅ SEMMA flow complete!\n"
          ]
        }
      ],
      "source": [
        "import numpy as np\n",
        "from sklearn.metrics import roc_auc_score, RocCurveDisplay, PrecisionRecallDisplay, ConfusionMatrixDisplay\n",
        "import matplotlib.pyplot as plt\n",
        "\n",
        "best = gb  # switch to logreg if it validated better\n",
        "\n",
        "y_pred = best.predict(X_test)\n",
        "y_proba = best.predict_proba(X_test)[:,1]\n",
        "\n",
        "print(\"=== TEST REPORT (Chosen Model) ===\")\n",
        "from sklearn.metrics import classification_report\n",
        "print(classification_report(y_test, y_pred, digits=3))\n",
        "print(\"TEST ROC-AUC:\", roc_auc_score(y_test, y_proba))\n",
        "\n",
        "RocCurveDisplay.from_predictions(y_test, y_proba)\n",
        "plt.show()\n",
        "\n",
        "PrecisionRecallDisplay.from_predictions(y_test, y_proba)\n",
        "plt.show()\n",
        "\n",
        "ConfusionMatrixDisplay.from_predictions(y_test, y_pred)\n",
        "plt.show()\n",
        "\n",
        "# Lift chart (deciles)\n",
        "deciles = pd.qcut(pd.Series(y_proba), 10, labels=False, duplicates='drop')\n",
        "lift_df = pd.DataFrame({'proba': y_proba, 'y': y_test.values, 'decile': deciles})\n",
        "agg = lift_df.groupby('decile').agg(events=('y','sum'), count=('y','size')).sort_index(ascending=False)\n",
        "agg['event_rate'] = agg['events'] / agg['count']\n",
        "baseline = lift_df['y'].mean()\n",
        "agg['lift'] = agg['event_rate'] / baseline\n",
        "agg['cum_events'] = agg['events'].cumsum()\n",
        "agg['cum_pct_events'] = agg['cum_events'] / agg['events'].sum()\n",
        "\n",
        "ax = agg['lift'].plot(kind='bar')\n",
        "plt.title('Lift by Decile (higher is better)')\n",
        "plt.tight_layout()\n",
        "plt.show()\n",
        "\n",
        "print(agg[['events','count','event_rate','lift','cum_pct_events']])\n",
        "print(\"✅ SEMMA flow complete!\")"
      ]
    },
    {
      "cell_type": "markdown",
      "id": "e3203a7c",
      "metadata": {
        "id": "e3203a7c"
      },
      "source": [
        "---\n",
        "### 🔍 (Optional) Ask an AI to critique SEMMA stages\n",
        "> *\"Act as a world-renowned authority on SEMMA. Critique my **Sample, Explore, Modify, Model, Assess** artifacts for rigor, sampling bias, variable selection, and lift/profit analysis. Provide a prioritized fix list.\"*"
      ]
    }
  ],
  "metadata": {
    "colab": {
      "provenance": [],
      "include_colab_link": true
    },
    "language_info": {
      "name": "python"
    },
    "kernelspec": {
      "name": "python3",
      "display_name": "Python 3"
    }
  },
  "nbformat": 4,
  "nbformat_minor": 5
}