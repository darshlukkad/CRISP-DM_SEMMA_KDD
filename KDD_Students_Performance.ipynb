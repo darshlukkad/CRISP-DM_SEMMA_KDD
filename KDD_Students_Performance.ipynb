{
  "cells": [
    {
      "cell_type": "markdown",
      "metadata": {
        "id": "view-in-github",
        "colab_type": "text"
      },
      "source": [
        "<a href=\"https://colab.research.google.com/github/darshlukkad/CRISP-DM_SEMMA_KDD/blob/main/KDD_Students_Performance.ipynb\" target=\"_parent\"><img src=\"https://colab.research.google.com/assets/colab-badge.svg\" alt=\"Open In Colab\"/></a>"
      ]
    },
    {
      "cell_type": "markdown",
      "id": "2d7f5ea7",
      "metadata": {
        "id": "2d7f5ea7"
      },
      "source": [
        "# 📙 KDD: Students Performance (Regression)\n",
        "We follow **KDD**: Selection → Cleaning/Preprocessing → Transformation → Data Mining → Interpretation/Evaluation  \n",
        "**Dataset**: `spscientist/students-performance-in-exams` (Kaggle)"
      ]
    },
    {
      "cell_type": "markdown",
      "id": "a092da9e",
      "metadata": {
        "id": "a092da9e"
      },
      "source": [
        "# 🚀 Step 1: One-time Kaggle setup (super easy)\n",
        "1. Create a free Kaggle account (https://www.kaggle.com/).\n",
        "2. Go to your Kaggle **Account** → scroll to **API** → click **Create New API Token**.\n",
        "   - This downloads a file named **`kaggle.json`** to your computer.\n",
        "3. In Colab, run the next cell. It will ask you to **upload `kaggle.json`**."
      ]
    },
    {
      "cell_type": "code",
      "execution_count": 1,
      "id": "ddcf694e",
      "metadata": {
        "colab": {
          "base_uri": "https://localhost:8080/",
          "height": 109
        },
        "id": "ddcf694e",
        "outputId": "76f7055c-8275-4c30-ea00-88c04be5aada"
      },
      "outputs": [
        {
          "output_type": "stream",
          "name": "stdout",
          "text": [
            "👉 Please upload your kaggle.json (you get it from Kaggle > Account > Create New API Token).\n"
          ]
        },
        {
          "output_type": "display_data",
          "data": {
            "text/plain": [
              "<IPython.core.display.HTML object>"
            ],
            "text/html": [
              "\n",
              "     <input type=\"file\" id=\"files-1cc66059-9c7e-4c85-9579-81b9a27ebd47\" name=\"files[]\" multiple disabled\n",
              "        style=\"border:none\" />\n",
              "     <output id=\"result-1cc66059-9c7e-4c85-9579-81b9a27ebd47\">\n",
              "      Upload widget is only available when the cell has been executed in the\n",
              "      current browser session. Please rerun this cell to enable.\n",
              "      </output>\n",
              "      <script>// Copyright 2017 Google LLC\n",
              "//\n",
              "// Licensed under the Apache License, Version 2.0 (the \"License\");\n",
              "// you may not use this file except in compliance with the License.\n",
              "// You may obtain a copy of the License at\n",
              "//\n",
              "//      http://www.apache.org/licenses/LICENSE-2.0\n",
              "//\n",
              "// Unless required by applicable law or agreed to in writing, software\n",
              "// distributed under the License is distributed on an \"AS IS\" BASIS,\n",
              "// WITHOUT WARRANTIES OR CONDITIONS OF ANY KIND, either express or implied.\n",
              "// See the License for the specific language governing permissions and\n",
              "// limitations under the License.\n",
              "\n",
              "/**\n",
              " * @fileoverview Helpers for google.colab Python module.\n",
              " */\n",
              "(function(scope) {\n",
              "function span(text, styleAttributes = {}) {\n",
              "  const element = document.createElement('span');\n",
              "  element.textContent = text;\n",
              "  for (const key of Object.keys(styleAttributes)) {\n",
              "    element.style[key] = styleAttributes[key];\n",
              "  }\n",
              "  return element;\n",
              "}\n",
              "\n",
              "// Max number of bytes which will be uploaded at a time.\n",
              "const MAX_PAYLOAD_SIZE = 100 * 1024;\n",
              "\n",
              "function _uploadFiles(inputId, outputId) {\n",
              "  const steps = uploadFilesStep(inputId, outputId);\n",
              "  const outputElement = document.getElementById(outputId);\n",
              "  // Cache steps on the outputElement to make it available for the next call\n",
              "  // to uploadFilesContinue from Python.\n",
              "  outputElement.steps = steps;\n",
              "\n",
              "  return _uploadFilesContinue(outputId);\n",
              "}\n",
              "\n",
              "// This is roughly an async generator (not supported in the browser yet),\n",
              "// where there are multiple asynchronous steps and the Python side is going\n",
              "// to poll for completion of each step.\n",
              "// This uses a Promise to block the python side on completion of each step,\n",
              "// then passes the result of the previous step as the input to the next step.\n",
              "function _uploadFilesContinue(outputId) {\n",
              "  const outputElement = document.getElementById(outputId);\n",
              "  const steps = outputElement.steps;\n",
              "\n",
              "  const next = steps.next(outputElement.lastPromiseValue);\n",
              "  return Promise.resolve(next.value.promise).then((value) => {\n",
              "    // Cache the last promise value to make it available to the next\n",
              "    // step of the generator.\n",
              "    outputElement.lastPromiseValue = value;\n",
              "    return next.value.response;\n",
              "  });\n",
              "}\n",
              "\n",
              "/**\n",
              " * Generator function which is called between each async step of the upload\n",
              " * process.\n",
              " * @param {string} inputId Element ID of the input file picker element.\n",
              " * @param {string} outputId Element ID of the output display.\n",
              " * @return {!Iterable<!Object>} Iterable of next steps.\n",
              " */\n",
              "function* uploadFilesStep(inputId, outputId) {\n",
              "  const inputElement = document.getElementById(inputId);\n",
              "  inputElement.disabled = false;\n",
              "\n",
              "  const outputElement = document.getElementById(outputId);\n",
              "  outputElement.innerHTML = '';\n",
              "\n",
              "  const pickedPromise = new Promise((resolve) => {\n",
              "    inputElement.addEventListener('change', (e) => {\n",
              "      resolve(e.target.files);\n",
              "    });\n",
              "  });\n",
              "\n",
              "  const cancel = document.createElement('button');\n",
              "  inputElement.parentElement.appendChild(cancel);\n",
              "  cancel.textContent = 'Cancel upload';\n",
              "  const cancelPromise = new Promise((resolve) => {\n",
              "    cancel.onclick = () => {\n",
              "      resolve(null);\n",
              "    };\n",
              "  });\n",
              "\n",
              "  // Wait for the user to pick the files.\n",
              "  const files = yield {\n",
              "    promise: Promise.race([pickedPromise, cancelPromise]),\n",
              "    response: {\n",
              "      action: 'starting',\n",
              "    }\n",
              "  };\n",
              "\n",
              "  cancel.remove();\n",
              "\n",
              "  // Disable the input element since further picks are not allowed.\n",
              "  inputElement.disabled = true;\n",
              "\n",
              "  if (!files) {\n",
              "    return {\n",
              "      response: {\n",
              "        action: 'complete',\n",
              "      }\n",
              "    };\n",
              "  }\n",
              "\n",
              "  for (const file of files) {\n",
              "    const li = document.createElement('li');\n",
              "    li.append(span(file.name, {fontWeight: 'bold'}));\n",
              "    li.append(span(\n",
              "        `(${file.type || 'n/a'}) - ${file.size} bytes, ` +\n",
              "        `last modified: ${\n",
              "            file.lastModifiedDate ? file.lastModifiedDate.toLocaleDateString() :\n",
              "                                    'n/a'} - `));\n",
              "    const percent = span('0% done');\n",
              "    li.appendChild(percent);\n",
              "\n",
              "    outputElement.appendChild(li);\n",
              "\n",
              "    const fileDataPromise = new Promise((resolve) => {\n",
              "      const reader = new FileReader();\n",
              "      reader.onload = (e) => {\n",
              "        resolve(e.target.result);\n",
              "      };\n",
              "      reader.readAsArrayBuffer(file);\n",
              "    });\n",
              "    // Wait for the data to be ready.\n",
              "    let fileData = yield {\n",
              "      promise: fileDataPromise,\n",
              "      response: {\n",
              "        action: 'continue',\n",
              "      }\n",
              "    };\n",
              "\n",
              "    // Use a chunked sending to avoid message size limits. See b/62115660.\n",
              "    let position = 0;\n",
              "    do {\n",
              "      const length = Math.min(fileData.byteLength - position, MAX_PAYLOAD_SIZE);\n",
              "      const chunk = new Uint8Array(fileData, position, length);\n",
              "      position += length;\n",
              "\n",
              "      const base64 = btoa(String.fromCharCode.apply(null, chunk));\n",
              "      yield {\n",
              "        response: {\n",
              "          action: 'append',\n",
              "          file: file.name,\n",
              "          data: base64,\n",
              "        },\n",
              "      };\n",
              "\n",
              "      let percentDone = fileData.byteLength === 0 ?\n",
              "          100 :\n",
              "          Math.round((position / fileData.byteLength) * 100);\n",
              "      percent.textContent = `${percentDone}% done`;\n",
              "\n",
              "    } while (position < fileData.byteLength);\n",
              "  }\n",
              "\n",
              "  // All done.\n",
              "  yield {\n",
              "    response: {\n",
              "      action: 'complete',\n",
              "    }\n",
              "  };\n",
              "}\n",
              "\n",
              "scope.google = scope.google || {};\n",
              "scope.google.colab = scope.google.colab || {};\n",
              "scope.google.colab._files = {\n",
              "  _uploadFiles,\n",
              "  _uploadFilesContinue,\n",
              "};\n",
              "})(self);\n",
              "</script> "
            ]
          },
          "metadata": {}
        },
        {
          "output_type": "stream",
          "name": "stdout",
          "text": [
            "Saving kaggle.json to kaggle.json\n",
            "✅ Installed kaggle.json\n"
          ]
        }
      ],
      "source": [
        "# Install and set up Kaggle API\n",
        "!pip -q install kaggle\n",
        "\n",
        "import os, zipfile, glob, shutil, json, sys\n",
        "from pathlib import Path\n",
        "\n",
        "DATA_DIR = Path(\"data\")\n",
        "DATA_DIR.mkdir(exist_ok=True)\n",
        "\n",
        "# Put kaggle.json in the right place\n",
        "kaggle_dir = Path.home() / \".kaggle\"\n",
        "kaggle_dir.mkdir(exist_ok=True)\n",
        "\n",
        "if not (kaggle_dir / \"kaggle.json\").exists():\n",
        "    try:\n",
        "        from google.colab import files  # will work in Colab\n",
        "        print(\"👉 Please upload your kaggle.json (you get it from Kaggle > Account > Create New API Token).\")\n",
        "        uploaded = files.upload()\n",
        "        assert \"kaggle.json\" in uploaded, \"You must upload a file named kaggle.json\"\n",
        "        with open(kaggle_dir / \"kaggle.json\", \"wb\") as f:\n",
        "            f.write(uploaded[\"kaggle.json\"])\n",
        "        os.chmod(kaggle_dir / \"kaggle.json\", 0o600)\n",
        "        print(\"✅ Installed kaggle.json\")\n",
        "    except Exception as e:\n",
        "        print(\"If you're not in Colab, manually place kaggle.json in\", kaggle_dir)\n",
        "        raise e\n",
        "else:\n",
        "    print(\"✅ kaggle.json already present\")"
      ]
    },
    {
      "cell_type": "markdown",
      "id": "8e3088a3",
      "metadata": {
        "id": "8e3088a3"
      },
      "source": [
        "# 📥 Step 2: Download the dataset automatically\n",
        "We will use the Kaggle API to download the dataset into the local `data/` folder.\n",
        "If (rarely) Kaggle blocks the download, the next cells will let you **manually upload** the CSV instead."
      ]
    },
    {
      "cell_type": "code",
      "execution_count": 2,
      "id": "9c6840d5",
      "metadata": {
        "colab": {
          "base_uri": "https://localhost:8080/"
        },
        "id": "9c6840d5",
        "outputId": "22f6ba49-5bcf-49c9-ac09-2f7628e4e9aa"
      },
      "outputs": [
        {
          "output_type": "stream",
          "name": "stdout",
          "text": [
            "⏬ Downloading: spscientist/students-performance-in-exams\n",
            "Dataset URL: https://www.kaggle.com/datasets/spscientist/students-performance-in-exams\n",
            "License(s): unknown\n",
            "Downloading students-performance-in-exams.zip to data\n",
            "  0% 0.00/8.70k [00:00<?, ?B/s]\n",
            "100% 8.70k/8.70k [00:00<00:00, 33.8MB/s]\n",
            "📂 Contents of data/: ['StudentsPerformance.csv']\n"
          ]
        }
      ],
      "source": [
        "# Download the Kaggle dataset\n",
        "KAGGLE_DATASET = \"spscientist/students-performance-in-exams\"\n",
        "print(\"⏬ Downloading:\", KAGGLE_DATASET)\n",
        "!kaggle datasets download -d $KAGGLE_DATASET -p $DATA_DIR --force\n",
        "\n",
        "# Unzip any archives into data/\n",
        "import zipfile, io\n",
        "for z in DATA_DIR.glob(\"*.zip\"):\n",
        "    with zipfile.ZipFile(z, \"r\") as zip_ref:\n",
        "        zip_ref.extractall(DATA_DIR)\n",
        "    z.unlink()\n",
        "\n",
        "print(\"📂 Contents of data/:\", [p.name for p in DATA_DIR.iterdir()])"
      ]
    },
    {
      "cell_type": "markdown",
      "id": "092cab0c",
      "metadata": {
        "id": "092cab0c"
      },
      "source": [
        "# 🆘 If needed: Manual upload fallback\n",
        "If you don't see a CSV in `data/`, run the next cell and upload the CSV from Kaggle manually.\n",
        "(Go to the dataset page on Kaggle and click **Download** to get the zip; extract the CSV and upload here.)"
      ]
    },
    {
      "cell_type": "code",
      "execution_count": 3,
      "id": "7f3bee4b",
      "metadata": {
        "colab": {
          "base_uri": "https://localhost:8080/"
        },
        "id": "7f3bee4b",
        "outputId": "5f107566-46f9-4438-e8b3-76e6c126e3d9"
      },
      "outputs": [
        {
          "output_type": "stream",
          "name": "stdout",
          "text": [
            "✅ CSV already present: ['StudentsPerformance.csv']\n"
          ]
        }
      ],
      "source": [
        "from pathlib import Path\n",
        "csvs = list(Path(\"data\").glob(\"*.csv\"))\n",
        "if not csvs:\n",
        "    try:\n",
        "        from google.colab import files\n",
        "        print(\"No CSV detected in data/. Please upload the CSV file now.\")\n",
        "        uploaded = files.upload()\n",
        "        # Save the first uploaded CSV into data/\n",
        "        for k, v in uploaded.items():\n",
        "            if k.lower().endswith(\".csv\"):\n",
        "                with open(Path(\"data\")/k, \"wb\") as f:\n",
        "                    f.write(v)\n",
        "        print(\"✅ Uploaded CSV to data/.\")\n",
        "    except Exception as e:\n",
        "        raise RuntimeError(\"Still no CSV found. Please upload a CSV to data/.\") from e\n",
        "else:\n",
        "    print(\"✅ CSV already present:\", [c.name for c in csvs])"
      ]
    },
    {
      "cell_type": "markdown",
      "id": "c9118acc",
      "metadata": {
        "id": "c9118acc"
      },
      "source": [
        "# 🧰 Step 3: Imports and reproducibility"
      ]
    },
    {
      "cell_type": "code",
      "execution_count": 4,
      "id": "f36a1630",
      "metadata": {
        "id": "f36a1630"
      },
      "outputs": [],
      "source": [
        "import numpy as np, pandas as pd, matplotlib.pyplot as plt\n",
        "from pathlib import Path\n",
        "import warnings, sys, os, re\n",
        "warnings.filterwarnings('ignore')\n",
        "\n",
        "RANDOM_STATE = 42\n",
        "np.random.seed(RANDOM_STATE)"
      ]
    },
    {
      "cell_type": "markdown",
      "id": "a15da34f",
      "metadata": {
        "id": "a15da34f"
      },
      "source": [
        "## Load data and define problem\n",
        "We’ll predict **`math score`** from demographic/context features and the other scores."
      ]
    },
    {
      "cell_type": "code",
      "execution_count": 5,
      "id": "ecbe7f74",
      "metadata": {
        "colab": {
          "base_uri": "https://localhost:8080/"
        },
        "id": "ecbe7f74",
        "outputId": "58908a0f-4393-4c0a-b106-9b5cff86c069"
      },
      "outputs": [
        {
          "output_type": "stream",
          "name": "stdout",
          "text": [
            "Using CSV: data/StudentsPerformance.csv\n",
            "   gender race/ethnicity parental level of education         lunch  \\\n",
            "0  female        group B           bachelor's degree      standard   \n",
            "1  female        group C                some college      standard   \n",
            "2  female        group B             master's degree      standard   \n",
            "3    male        group A          associate's degree  free/reduced   \n",
            "4    male        group C                some college      standard   \n",
            "\n",
            "  test preparation course  math score  reading score  writing score  \n",
            "0                    none          72             72             74  \n",
            "1               completed          69             90             88  \n",
            "2                    none          90             95             93  \n",
            "3                    none          47             57             44  \n",
            "4                    none          76             78             75  \n",
            "(1000, 8)\n",
            "gender                         0\n",
            "race/ethnicity                 0\n",
            "parental level of education    0\n",
            "lunch                          0\n",
            "test preparation course        0\n",
            "math score                     0\n",
            "reading score                  0\n",
            "writing score                  0\n",
            "dtype: int64\n"
          ]
        }
      ],
      "source": [
        "from pathlib import Path\n",
        "import pandas as pd\n",
        "\n",
        "candidates = list(Path(\"data\").glob(\"*.csv\"))\n",
        "assert candidates, \"No CSVs found; please ensure StudentsPerformance.csv is in data/.\"\n",
        "csv_path = None\n",
        "for p in candidates:\n",
        "    if \"StudentsPerformance\" in p.name or \"Students\" in p.name:\n",
        "        csv_path = p\n",
        "        break\n",
        "if csv_path is None:\n",
        "    csv_path = candidates[0]\n",
        "\n",
        "print(\"Using CSV:\", csv_path)\n",
        "df = pd.read_csv(csv_path)\n",
        "print(df.head())\n",
        "print(df.shape)\n",
        "print(df.isna().sum())"
      ]
    },
    {
      "cell_type": "markdown",
      "id": "4c174eeb",
      "metadata": {
        "id": "4c174eeb"
      },
      "source": [
        "## Cleaning / Preprocessing\n",
        "- Handle missing values (if any)\n",
        "- Split features/target"
      ]
    },
    {
      "cell_type": "code",
      "execution_count": 6,
      "id": "a6d45268",
      "metadata": {
        "colab": {
          "base_uri": "https://localhost:8080/"
        },
        "id": "a6d45268",
        "outputId": "ca415321-e00a-458c-afc6-fe91b28ce8ce"
      },
      "outputs": [
        {
          "output_type": "stream",
          "name": "stdout",
          "text": [
            "Features: ['gender', 'race/ethnicity', 'parental level of education', 'lunch', 'test preparation course', 'reading score', 'writing score']\n"
          ]
        }
      ],
      "source": [
        "df2 = df.copy()\n",
        "\n",
        "target = 'math score'\n",
        "y = df2[target]\n",
        "X = df2.drop(columns=[target])\n",
        "\n",
        "print(\"Features:\", X.columns.tolist())"
      ]
    },
    {
      "cell_type": "markdown",
      "id": "69b1f199",
      "metadata": {
        "id": "69b1f199"
      },
      "source": [
        "## Transformation\n",
        "- One-hot encode categoricals\n",
        "- Scale numerics"
      ]
    },
    {
      "cell_type": "code",
      "execution_count": 7,
      "id": "ac05bcda",
      "metadata": {
        "colab": {
          "base_uri": "https://localhost:8080/"
        },
        "id": "ac05bcda",
        "outputId": "bc6ddc72-feb1-423f-88df-6c0c11afff60"
      },
      "outputs": [
        {
          "output_type": "stream",
          "name": "stdout",
          "text": [
            "Categorical: ['gender', 'race/ethnicity', 'parental level of education', 'lunch', 'test preparation course']\n",
            "Numeric: ['reading score', 'writing score']\n"
          ]
        }
      ],
      "source": [
        "from sklearn.compose import ColumnTransformer\n",
        "from sklearn.preprocessing import OneHotEncoder, StandardScaler\n",
        "\n",
        "cat_cols = X.select_dtypes(include=['object', 'category']).columns.tolist()\n",
        "num_cols = X.select_dtypes(include=['number']).columns.tolist()\n",
        "\n",
        "preprocess = ColumnTransformer([\n",
        "    ('cat', OneHotEncoder(handle_unknown='ignore'), cat_cols),\n",
        "    ('num', StandardScaler(), num_cols)\n",
        "])\n",
        "\n",
        "print(\"Categorical:\", cat_cols)\n",
        "print(\"Numeric:\", num_cols)"
      ]
    },
    {
      "cell_type": "markdown",
      "id": "f626b694",
      "metadata": {
        "id": "f626b694"
      },
      "source": [
        "## Data Mining (Modeling)\n",
        "We’ll compare a **Linear Regression** baseline with a **Random Forest Regressor**."
      ]
    },
    {
      "cell_type": "code",
      "execution_count": 8,
      "id": "d194993b",
      "metadata": {
        "colab": {
          "base_uri": "https://localhost:8080/"
        },
        "id": "d194993b",
        "outputId": "c078c44e-d679-4ced-ea74-9403369ca899"
      },
      "outputs": [
        {
          "output_type": "stream",
          "name": "stdout",
          "text": [
            "\n",
            "=== LinearRegression (Test) ===\n",
            "R2: 0.8778243107659012\n",
            "MAE: 4.337930600167407\n",
            "\n",
            "=== RandomForest (Test) ===\n",
            "R2: 0.8501942376979408\n",
            "MAE: 4.733844880952382\n"
          ]
        }
      ],
      "source": [
        "from sklearn.model_selection import train_test_split\n",
        "from sklearn.pipeline import Pipeline\n",
        "from sklearn.linear_model import LinearRegression\n",
        "from sklearn.ensemble import RandomForestRegressor\n",
        "from sklearn.metrics import r2_score, mean_absolute_error\n",
        "\n",
        "X_train, X_test, y_train, y_test = train_test_split(X, y, test_size=0.25, random_state=RANDOM_STATE)\n",
        "\n",
        "lin = Pipeline([('prep', preprocess), ('mdl', LinearRegression())])\n",
        "rf = Pipeline([('prep', preprocess), ('mdl', RandomForestRegressor(n_estimators=400, random_state=RANDOM_STATE))])\n",
        "\n",
        "lin.fit(X_train, y_train)\n",
        "rf.fit(X_train, y_train)\n",
        "\n",
        "def eval_reg(model, Xv, yv, name):\n",
        "    pred = model.predict(Xv)\n",
        "    print(f\"\\n=== {name} ===\")\n",
        "    print(\"R2:\", r2_score(yv, pred))\n",
        "    print(\"MAE:\", mean_absolute_error(yv, pred))\n",
        "\n",
        "eval_reg(lin, X_test, y_test, \"LinearRegression (Test)\")\n",
        "eval_reg(rf, X_test, y_test, \"RandomForest (Test)\")"
      ]
    },
    {
      "cell_type": "markdown",
      "id": "05ef50a1",
      "metadata": {
        "id": "05ef50a1"
      },
      "source": [
        "## Interpretation / Evaluation\n",
        "Show **feature importance** (from Random Forest) and discuss what matters."
      ]
    },
    {
      "cell_type": "code",
      "execution_count": 9,
      "id": "33a5d334",
      "metadata": {
        "colab": {
          "base_uri": "https://localhost:8080/",
          "height": 625
        },
        "id": "33a5d334",
        "outputId": "ddf427d6-1b6a-4c35-c5d4-c240cda92e39"
      },
      "outputs": [
        {
          "output_type": "display_data",
          "data": {
            "text/plain": [
              "<Figure size 800x600 with 1 Axes>"
            ],
            "image/png": "[encoded data removed]"
          },
          "metadata": {}
        },
        {
          "output_type": "stream",
          "name": "stdout",
          "text": [
            "✅ KDD flow complete!\n"
          ]
        }
      ],
      "source": [
        "import numpy as np\n",
        "\n",
        "best = rf  # usually stronger for non-linear patterns\n",
        "# Retrieve feature names after preprocessing\n",
        "ohe = best.named_steps['prep'].named_transformers_['cat']\n",
        "num_cols = best.named_steps['prep'].transformers_[1][2]\n",
        "\n",
        "cat_feature_names = list(ohe.get_feature_names_out())\n",
        "feature_names = cat_feature_names + list(num_cols)\n",
        "\n",
        "importances = best.named_steps['mdl'].feature_importances_\n",
        "idx = np.argsort(importances)[-20:][::-1]  # top 20\n",
        "\n",
        "import matplotlib.pyplot as plt\n",
        "plt.figure(figsize=(8,6))\n",
        "plt.barh([feature_names[i] for i in idx][::-1], importances[idx][::-1])\n",
        "plt.title(\"Top Feature Importances (Random Forest)\")\n",
        "plt.tight_layout()\n",
        "plt.show()\n",
        "\n",
        "print(\"✅ KDD flow complete!\")"
      ]
    },
    {
      "cell_type": "markdown",
      "id": "c837f36f",
      "metadata": {
        "id": "c837f36f"
      },
      "source": [
        "---\n",
        "### 🔍 (Optional) Ask an AI to critique your KDD pipeline\n",
        "> *\"Act as a world-renowned authority on KDD. Critique my **Selection, Cleaning, Transformation, Data Mining, and Interpretation** steps for completeness, reproducibility, and knowledge extraction quality. Provide prioritized improvements.\"*"
      ]
    }
  ],
  "metadata": {
    "colab": {
      "provenance": [],
      "include_colab_link": true
    },
    "language_info": {
      "name": "python"
    },
    "kernelspec": {
      "name": "python3",
      "display_name": "Python 3"
    }
  },
  "nbformat": 4,
  "nbformat_minor": 5
}