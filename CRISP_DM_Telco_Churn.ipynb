{
  "cells": [
    {
      "cell_type": "markdown",
      "metadata": {
        "id": "view-in-github",
        "colab_type": "text"
      },
      "source": [
        "<a href=\"https://colab.research.google.com/github/darshlukkad/CRISP-DM_SEMMA_KDD/blob/main/CRISP_DM_Telco_Churn.ipynb\" target=\"_parent\"><img src=\"https://colab.research.google.com/assets/colab-badge.svg\" alt=\"Open In Colab\"/></a>"
      ]
    },
    {
      "cell_type": "markdown",
      "id": "1758e213",
      "metadata": {
        "id": "1758e213"
      },
      "source": [
        "# 📘 CRISP-DM: Telco Customer Churn (End-to-End)\n",
        "We will follow the six phases of **CRISP-DM** using Kaggle's **Telco Customer Churn** dataset.\n",
        "\n",
        "**Phases**: Business Understanding → Data Understanding → Data Preparation → Modeling → Evaluation → Deployment\n",
        "\n",
        "**Dataset**: `blastchar/telco-customer-churn` (Kaggle)"
      ]
    },
    {
      "cell_type": "markdown",
      "id": "34ba6369",
      "metadata": {
        "id": "34ba6369"
      },
      "source": [
        "# 🚀 Step 1: One-time Kaggle setup (super easy)\n",
        "1. Create a free Kaggle account (https://www.kaggle.com/).\n",
        "2. Go to your Kaggle **Account** → scroll to **API** → click **Create New API Token**.\n",
        "   - This downloads a file named **`kaggle.json`** to your computer.\n",
        "3. In Colab, run the next cell. It will ask you to **upload `kaggle.json`**."
      ]
    },
    {
      "cell_type": "code",
      "execution_count": 1,
      "id": "4b137771",
      "metadata": {
        "colab": {
          "base_uri": "https://localhost:8080/",
          "height": 109
        },
        "id": "4b137771",
        "outputId": "9582e04e-701b-419d-cd81-5358ccf23209"
      },
      "outputs": [
        {
          "output_type": "stream",
          "name": "stdout",
          "text": [
            "👉 Please upload your kaggle.json (you get it from Kaggle > Account > Create New API Token).\n"
          ]
        },
        {
          "output_type": "display_data",
          "data": {
            "text/plain": [
              "<IPython.core.display.HTML object>"
            ],
            "text/html": [
              "\n",
              "     <input type=\"file\" id=\"files-55e9a5fb-6767-47c6-8c22-0eab9e475ffd\" name=\"files[]\" multiple disabled\n",
              "        style=\"border:none\" />\n",
              "     <output id=\"result-55e9a5fb-6767-47c6-8c22-0eab9e475ffd\">\n",
              "      Upload widget is only available when the cell has been executed in the\n",
              "      current browser session. Please rerun this cell to enable.\n",
              "      </output>\n",
              "      <script>// Copyright 2017 Google LLC\n",
              "//\n",
              "// Licensed under the Apache License, Version 2.0 (the \"License\");\n",
              "// you may not use this file except in compliance with the License.\n",
              "// You may obtain a copy of the License at\n",
              "//\n",
              "//      http://www.apache.org/licenses/LICENSE-2.0\n",
              "//\n",
              "// Unless required by applicable law or agreed to in writing, software\n",
              "// distributed under the License is distributed on an \"AS IS\" BASIS,\n",
              "// WITHOUT WARRANTIES OR CONDITIONS OF ANY KIND, either express or implied.\n",
              "// See the License for the specific language governing permissions and\n",
              "// limitations under the License.\n",
              "\n",
              "/**\n",
              " * @fileoverview Helpers for google.colab Python module.\n",
              " */\n",
              "(function(scope) {\n",
              "function span(text, styleAttributes = {}) {\n",
              "  const element = document.createElement('span');\n",
              "  element.textContent = text;\n",
              "  for (const key of Object.keys(styleAttributes)) {\n",
              "    element.style[key] = styleAttributes[key];\n",
              "  }\n",
              "  return element;\n",
              "}\n",
              "\n",
              "// Max number of bytes which will be uploaded at a time.\n",
              "const MAX_PAYLOAD_SIZE = 100 * 1024;\n",
              "\n",
              "function _uploadFiles(inputId, outputId) {\n",
              "  const steps = uploadFilesStep(inputId, outputId);\n",
              "  const outputElement = document.getElementById(outputId);\n",
              "  // Cache steps on the outputElement to make it available for the next call\n",
              "  // to uploadFilesContinue from Python.\n",
              "  outputElement.steps = steps;\n",
              "\n",
              "  return _uploadFilesContinue(outputId);\n",
              "}\n",
              "\n",
              "// This is roughly an async generator (not supported in the browser yet),\n",
              "// where there are multiple asynchronous steps and the Python side is going\n",
              "// to poll for completion of each step.\n",
              "// This uses a Promise to block the python side on completion of each step,\n",
              "// then passes the result of the previous step as the input to the next step.\n",
              "function _uploadFilesContinue(outputId) {\n",
              "  const outputElement = document.getElementById(outputId);\n",
              "  const steps = outputElement.steps;\n",
              "\n",
              "  const next = steps.next(outputElement.lastPromiseValue);\n",
              "  return Promise.resolve(next.value.promise).then((value) => {\n",
              "    // Cache the last promise value to make it available to the next\n",
              "    // step of the generator.\n",
              "    outputElement.lastPromiseValue = value;\n",
              "    return next.value.response;\n",
              "  });\n",
              "}\n",
              "\n",
              "/**\n",
              " * Generator function which is called between each async step of the upload\n",
              " * process.\n",
              " * @param {string} inputId Element ID of the input file picker element.\n",
              " * @param {string} outputId Element ID of the output display.\n",
              " * @return {!Iterable<!Object>} Iterable of next steps.\n",
              " */\n",
              "function* uploadFilesStep(inputId, outputId) {\n",
              "  const inputElement = document.getElementById(inputId);\n",
              "  inputElement.disabled = false;\n",
              "\n",
              "  const outputElement = document.getElementById(outputId);\n",
              "  outputElement.innerHTML = '';\n",
              "\n",
              "  const pickedPromise = new Promise((resolve) => {\n",
              "    inputElement.addEventListener('change', (e) => {\n",
              "      resolve(e.target.files);\n",
              "    });\n",
              "  });\n",
              "\n",
              "  const cancel = document.createElement('button');\n",
              "  inputElement.parentElement.appendChild(cancel);\n",
              "  cancel.textContent = 'Cancel upload';\n",
              "  const cancelPromise = new Promise((resolve) => {\n",
              "    cancel.onclick = () => {\n",
              "      resolve(null);\n",
              "    };\n",
              "  });\n",
              "\n",
              "  // Wait for the user to pick the files.\n",
              "  const files = yield {\n",
              "    promise: Promise.race([pickedPromise, cancelPromise]),\n",
              "    response: {\n",
              "      action: 'starting',\n",
              "    }\n",
              "  };\n",
              "\n",
              "  cancel.remove();\n",
              "\n",
              "  // Disable the input element since further picks are not allowed.\n",
              "  inputElement.disabled = true;\n",
              "\n",
              "  if (!files) {\n",
              "    return {\n",
              "      response: {\n",
              "        action: 'complete',\n",
              "      }\n",
              "    };\n",
              "  }\n",
              "\n",
              "  for (const file of files) {\n",
              "    const li = document.createElement('li');\n",
              "    li.append(span(file.name, {fontWeight: 'bold'}));\n",
              "    li.append(span(\n",
              "        `(${file.type || 'n/a'}) - ${file.size} bytes, ` +\n",
              "        `last modified: ${\n",
              "            file.lastModifiedDate ? file.lastModifiedDate.toLocaleDateString() :\n",
              "                                    'n/a'} - `));\n",
              "    const percent = span('0% done');\n",
              "    li.appendChild(percent);\n",
              "\n",
              "    outputElement.appendChild(li);\n",
              "\n",
              "    const fileDataPromise = new Promise((resolve) => {\n",
              "      const reader = new FileReader();\n",
              "      reader.onload = (e) => {\n",
              "        resolve(e.target.result);\n",
              "      };\n",
              "      reader.readAsArrayBuffer(file);\n",
              "    });\n",
              "    // Wait for the data to be ready.\n",
              "    let fileData = yield {\n",
              "      promise: fileDataPromise,\n",
              "      response: {\n",
              "        action: 'continue',\n",
              "      }\n",
              "    };\n",
              "\n",
              "    // Use a chunked sending to avoid message size limits. See b/62115660.\n",
              "    let position = 0;\n",
              "    do {\n",
              "      const length = Math.min(fileData.byteLength - position, MAX_PAYLOAD_SIZE);\n",
              "      const chunk = new Uint8Array(fileData, position, length);\n",
              "      position += length;\n",
              "\n",
              "      const base64 = btoa(String.fromCharCode.apply(null, chunk));\n",
              "      yield {\n",
              "        response: {\n",
              "          action: 'append',\n",
              "          file: file.name,\n",
              "          data: base64,\n",
              "        },\n",
              "      };\n",
              "\n",
              "      let percentDone = fileData.byteLength === 0 ?\n",
              "          100 :\n",
              "          Math.round((position / fileData.byteLength) * 100);\n",
              "      percent.textContent = `${percentDone}% done`;\n",
              "\n",
              "    } while (position < fileData.byteLength);\n",
              "  }\n",
              "\n",
              "  // All done.\n",
              "  yield {\n",
              "    response: {\n",
              "      action: 'complete',\n",
              "    }\n",
              "  };\n",
              "}\n",
              "\n",
              "scope.google = scope.google || {};\n",
              "scope.google.colab = scope.google.colab || {};\n",
              "scope.google.colab._files = {\n",
              "  _uploadFiles,\n",
              "  _uploadFilesContinue,\n",
              "};\n",
              "})(self);\n",
              "</script> "
            ]
          },
          "metadata": {}
        },
        {
          "output_type": "stream",
          "name": "stdout",
          "text": [
            "Saving kaggle.json to kaggle.json\n",
            "✅ Installed kaggle.json\n"
          ]
        }
      ],
      "source": [
        "# Install and set up Kaggle API\n",
        "!pip -q install kaggle\n",
        "\n",
        "import os, zipfile, glob, shutil, json, sys\n",
        "from pathlib import Path\n",
        "\n",
        "DATA_DIR = Path(\"data\")\n",
        "DATA_DIR.mkdir(exist_ok=True)\n",
        "\n",
        "# Put kaggle.json in the right place\n",
        "kaggle_dir = Path.home() / \".kaggle\"\n",
        "kaggle_dir.mkdir(exist_ok=True)\n",
        "\n",
        "if not (kaggle_dir / \"kaggle.json\").exists():\n",
        "    try:\n",
        "        from google.colab import files  # will work in Colab\n",
        "        print(\"👉 Please upload your kaggle.json (you get it from Kaggle > Account > Create New API Token).\")\n",
        "        uploaded = files.upload()\n",
        "        assert \"kaggle.json\" in uploaded, \"You must upload a file named kaggle.json\"\n",
        "        with open(kaggle_dir / \"kaggle.json\", \"wb\") as f:\n",
        "            f.write(uploaded[\"kaggle.json\"])\n",
        "        os.chmod(kaggle_dir / \"kaggle.json\", 0o600)\n",
        "        print(\"✅ Installed kaggle.json\")\n",
        "    except Exception as e:\n",
        "        print(\"If you're not in Colab, manually place kaggle.json in\", kaggle_dir)\n",
        "        raise e\n",
        "else:\n",
        "    print(\"✅ kaggle.json already present\")"
      ]
    },
    {
      "cell_type": "markdown",
      "id": "de0f26e2",
      "metadata": {
        "id": "de0f26e2"
      },
      "source": [
        "# 📥 Step 2: Download the dataset automatically\n",
        "We will use the Kaggle API to download the dataset into the local `data/` folder.\n",
        "If (rarely) Kaggle blocks the download, the next cells will let you **manually upload** the CSV instead."
      ]
    },
    {
      "cell_type": "code",
      "execution_count": 2,
      "id": "84995b35",
      "metadata": {
        "colab": {
          "base_uri": "https://localhost:8080/"
        },
        "id": "84995b35",
        "outputId": "4902c359-1613-4895-ea55-0ab568baa41d"
      },
      "outputs": [
        {
          "output_type": "stream",
          "name": "stdout",
          "text": [
            "⏬ Downloading: blastchar/telco-customer-churn\n",
            "Dataset URL: https://www.kaggle.com/datasets/blastchar/telco-customer-churn\n",
            "License(s): copyright-authors\n",
            "Downloading telco-customer-churn.zip to data\n",
            "  0% 0.00/172k [00:00<?, ?B/s]\n",
            "100% 172k/172k [00:00<00:00, 602MB/s]\n",
            "📂 Contents of data/: ['WA_Fn-UseC_-Telco-Customer-Churn.csv']\n"
          ]
        }
      ],
      "source": [
        "# Download the Kaggle dataset\n",
        "KAGGLE_DATASET = \"blastchar/telco-customer-churn\"\n",
        "print(\"⏬ Downloading:\", KAGGLE_DATASET)\n",
        "!kaggle datasets download -d $KAGGLE_DATASET -p $DATA_DIR --force\n",
        "\n",
        "# Unzip any archives into data/\n",
        "import zipfile, io\n",
        "for z in DATA_DIR.glob(\"*.zip\"):\n",
        "    with zipfile.ZipFile(z, \"r\") as zip_ref:\n",
        "        zip_ref.extractall(DATA_DIR)\n",
        "    z.unlink()\n",
        "\n",
        "print(\"📂 Contents of data/:\", [p.name for p in DATA_DIR.iterdir()])"
      ]
    },
    {
      "cell_type": "markdown",
      "id": "16e051f8",
      "metadata": {
        "id": "16e051f8"
      },
      "source": [
        "# 🆘 If needed: Manual upload fallback\n",
        "If you don't see a CSV in `data/`, run the next cell and upload the CSV from Kaggle manually.\n",
        "(Go to the dataset page on Kaggle and click **Download** to get the zip; extract the CSV and upload here.)"
      ]
    },
    {
      "cell_type": "code",
      "execution_count": 3,
      "id": "286b4eb3",
      "metadata": {
        "colab": {
          "base_uri": "https://localhost:8080/"
        },
        "id": "286b4eb3",
        "outputId": "ec709e36-0972-4157-b2f4-3920d8937402"
      },
      "outputs": [
        {
          "output_type": "stream",
          "name": "stdout",
          "text": [
            "✅ CSV already present: ['WA_Fn-UseC_-Telco-Customer-Churn.csv']\n"
          ]
        }
      ],
      "source": [
        "from pathlib import Path\n",
        "csvs = list(Path(\"data\").glob(\"*.csv\"))\n",
        "if not csvs:\n",
        "    try:\n",
        "        from google.colab import files\n",
        "        print(\"No CSV detected in data/. Please upload the CSV file now.\")\n",
        "        uploaded = files.upload()\n",
        "        # Save the first uploaded CSV into data/\n",
        "        for k, v in uploaded.items():\n",
        "            if k.lower().endswith(\".csv\"):\n",
        "                with open(Path(\"data\")/k, \"wb\") as f:\n",
        "                    f.write(v)\n",
        "        print(\"✅ Uploaded CSV to data/.\")\n",
        "    except Exception as e:\n",
        "        raise RuntimeError(\"Still no CSV found. Please upload a CSV to data/.\") from e\n",
        "else:\n",
        "    print(\"✅ CSV already present:\", [c.name for c in csvs])"
      ]
    },
    {
      "cell_type": "markdown",
      "id": "d7fca9b2",
      "metadata": {
        "id": "d7fca9b2"
      },
      "source": [
        "# 🧰 Step 3: Imports and reproducibility"
      ]
    },
    {
      "cell_type": "code",
      "execution_count": 4,
      "id": "6ee8034c",
      "metadata": {
        "id": "6ee8034c"
      },
      "outputs": [],
      "source": [
        "import numpy as np, pandas as pd, matplotlib.pyplot as plt\n",
        "from pathlib import Path\n",
        "import warnings, sys, os, re\n",
        "warnings.filterwarnings('ignore')\n",
        "\n",
        "RANDOM_STATE = 42\n",
        "np.random.seed(RANDOM_STATE)"
      ]
    },
    {
      "cell_type": "markdown",
      "id": "ede4ca25",
      "metadata": {
        "id": "ede4ca25"
      },
      "source": [
        "## 1) Business Understanding\n",
        "**Goal:** Predict if a customer will churn (leave) next month so the company can take action.\n",
        "\n",
        "**Success metric:** Achieve **recall ≥ 0.70** on the churn class while keeping ROC-AUC high (≥ 0.80).  \n",
        "**Why recall?** We prefer catching most churners so retention offers reach them.\n",
        "\n",
        "**Constraints:** Simple, explainable baseline + a stronger model. Inference should be quick for batch scoring."
      ]
    },
    {
      "cell_type": "markdown",
      "id": "360f4d88",
      "metadata": {
        "id": "360f4d88"
      },
      "source": [
        "## 2) Data Understanding\n",
        "We’ll load the dataset, inspect columns, missing values, and class balance."
      ]
    },
    {
      "cell_type": "code",
      "execution_count": 5,
      "id": "8d71f597",
      "metadata": {
        "colab": {
          "base_uri": "https://localhost:8080/"
        },
        "id": "8d71f597",
        "outputId": "87bbdee9-19b8-4a21-da62-232032747ae4"
      },
      "outputs": [
        {
          "output_type": "stream",
          "name": "stdout",
          "text": [
            "Using CSV: data/WA_Fn-UseC_-Telco-Customer-Churn.csv\n",
            "   customerID  gender  SeniorCitizen Partner Dependents  tenure PhoneService  \\\n",
            "0  7590-VHVEG  Female              0     Yes         No       1           No   \n",
            "1  5575-GNVDE    Male              0      No         No      34          Yes   \n",
            "2  3668-QPYBK    Male              0      No         No       2          Yes   \n",
            "3  7795-CFOCW    Male              0      No         No      45           No   \n",
            "4  9237-HQITU  Female              0      No         No       2          Yes   \n",
            "\n",
            "      MultipleLines InternetService OnlineSecurity  ... DeviceProtection  \\\n",
            "0  No phone service             DSL             No  ...               No   \n",
            "1                No             DSL            Yes  ...              Yes   \n",
            "2                No             DSL            Yes  ...               No   \n",
            "3  No phone service             DSL            Yes  ...              Yes   \n",
            "4                No     Fiber optic             No  ...               No   \n",
            "\n",
            "  TechSupport StreamingTV StreamingMovies        Contract PaperlessBilling  \\\n",
            "0          No          No              No  Month-to-month              Yes   \n",
            "1          No          No              No        One year               No   \n",
            "2          No          No              No  Month-to-month              Yes   \n",
            "3         Yes          No              No        One year               No   \n",
            "4          No          No              No  Month-to-month              Yes   \n",
            "\n",
            "               PaymentMethod MonthlyCharges  TotalCharges Churn  \n",
            "0           Electronic check          29.85         29.85    No  \n",
            "1               Mailed check          56.95        1889.5    No  \n",
            "2               Mailed check          53.85        108.15   Yes  \n",
            "3  Bank transfer (automatic)          42.30       1840.75    No  \n",
            "4           Electronic check          70.70        151.65   Yes  \n",
            "\n",
            "[5 rows x 21 columns]\n",
            "(7043, 21)\n",
            "customerID         0\n",
            "gender             0\n",
            "SeniorCitizen      0\n",
            "Partner            0\n",
            "Dependents         0\n",
            "tenure             0\n",
            "PhoneService       0\n",
            "MultipleLines      0\n",
            "InternetService    0\n",
            "OnlineSecurity     0\n",
            "dtype: int64\n",
            "Churn\n",
            "No     5174\n",
            "Yes    1869\n",
            "Name: count, dtype: int64\n"
          ]
        }
      ],
      "source": [
        "from pathlib import Path\n",
        "import pandas as pd\n",
        "\n",
        "# Try to auto-detect the Telco CSV\n",
        "candidates = list(Path(\"data\").glob(\"*.csv\"))\n",
        "csv_path = None\n",
        "for p in candidates:\n",
        "    if (\"WA_Fn\" in p.name) or (\"Telco\" in p.name) or (\"Churn\" in p.name):\n",
        "        csv_path = p\n",
        "        break\n",
        "if csv_path is None and candidates:\n",
        "    csv_path = candidates[0]\n",
        "\n",
        "assert csv_path is not None, \"No CSV found in data/. Please ensure the Telco CSV is present.\"\n",
        "print(\"Using CSV:\", csv_path)\n",
        "\n",
        "df = pd.read_csv(csv_path)\n",
        "print(df.head())\n",
        "print(df.shape)\n",
        "print(df.isna().sum().sort_values(ascending=False).head(10))\n",
        "print(df['Churn'].value_counts())"
      ]
    },
    {
      "cell_type": "markdown",
      "id": "ab505ce4",
      "metadata": {
        "id": "ab505ce4"
      },
      "source": [
        "## 3) Data Preparation\n",
        "- Drop identifiers (`customerID`)\n",
        "- Fix types (e.g., `TotalCharges` sometimes has blanks → numeric)\n",
        "- One-hot encode categoricals, scale numerics\n",
        "- Train/validation/test split"
      ]
    },
    {
      "cell_type": "code",
      "execution_count": 6,
      "id": "b88eedcd",
      "metadata": {
        "colab": {
          "base_uri": "https://localhost:8080/"
        },
        "id": "b88eedcd",
        "outputId": "7b42ecc6-1b8d-4832-8c4c-745fa259c240"
      },
      "outputs": [
        {
          "output_type": "stream",
          "name": "stdout",
          "text": [
            "Train/Valid/Test sizes: (4922, 19) (1055, 19) (1055, 19)\n"
          ]
        }
      ],
      "source": [
        "import numpy as np\n",
        "from sklearn.model_selection import train_test_split\n",
        "from sklearn.compose import ColumnTransformer\n",
        "from sklearn.preprocessing import OneHotEncoder, StandardScaler\n",
        "\n",
        "df2 = df.copy()\n",
        "\n",
        "# Clean Target\n",
        "df2['Churn'] = df2['Churn'].map({'Yes': 1, 'No': 0})\n",
        "\n",
        "# TotalCharges as numeric (some blanks)\n",
        "if 'TotalCharges' in df2.columns:\n",
        "    df2['TotalCharges'] = pd.to_numeric(df2['TotalCharges'].replace(' ', np.nan), errors='coerce')\n",
        "    df2 = df2.dropna(subset=['TotalCharges'])\n",
        "\n",
        "# Drop obvious IDs\n",
        "for col in ['customerID', 'CustomerID', 'customer_id']:\n",
        "    if col in df2.columns:\n",
        "        df2 = df2.drop(columns=[col])\n",
        "\n",
        "X = df2.drop(columns=['Churn'])\n",
        "y = df2['Churn']\n",
        "\n",
        "cat_cols = X.select_dtypes(include=['object', 'category']).columns.tolist()\n",
        "num_cols = X.select_dtypes(include=['number', 'bool']).columns.tolist()\n",
        "\n",
        "preprocess = ColumnTransformer([\n",
        "    ('cat', OneHotEncoder(handle_unknown='ignore'), cat_cols),\n",
        "    ('num', StandardScaler(), num_cols)\n",
        "])\n",
        "X_train, X_temp, y_train, y_temp = train_test_split(X, y, test_size=0.3, random_state=RANDOM_STATE, stratify=y)\n",
        "X_valid, X_test, y_valid, y_test = train_test_split(X_temp, y_temp, test_size=0.5, random_state=RANDOM_STATE, stratify=y_temp)\n",
        "\n",
        "print(\"Train/Valid/Test sizes:\", X_train.shape, X_valid.shape, X_test.shape)"
      ]
    },
    {
      "cell_type": "markdown",
      "id": "76736540",
      "metadata": {
        "id": "76736540"
      },
      "source": [
        "## 4) Modeling\n",
        "We’ll train two models:\n",
        "- **Logistic Regression** (interpretable baseline)\n",
        "- **Random Forest** (stronger non-linear model)\n",
        "\n",
        "We’ll choose based on **validation** performance."
      ]
    },
    {
      "cell_type": "code",
      "execution_count": 7,
      "id": "4d81501d",
      "metadata": {
        "colab": {
          "base_uri": "https://localhost:8080/"
        },
        "id": "4d81501d",
        "outputId": "cd966a06-8d32-4c2f-d4fd-bcb08370a6d8"
      },
      "outputs": [
        {
          "output_type": "stream",
          "name": "stdout",
          "text": [
            "\n",
            "=== LogReg VALIDATION ===\n",
            "              precision    recall  f1-score   support\n",
            "\n",
            "           0      0.914     0.725     0.808       774\n",
            "           1      0.517     0.811     0.632       281\n",
            "\n",
            "    accuracy                          0.748      1055\n",
            "   macro avg      0.715     0.768     0.720      1055\n",
            "weighted avg      0.808     0.748     0.761      1055\n",
            "\n",
            "ROC-AUC: 0.8531292817273121\n",
            "\n",
            "=== RandomForest VALIDATION ===\n",
            "              precision    recall  f1-score   support\n",
            "\n",
            "           0      0.825     0.903     0.862       774\n",
            "           1      0.639     0.473     0.544       281\n",
            "\n",
            "    accuracy                          0.789      1055\n",
            "   macro avg      0.732     0.688     0.703      1055\n",
            "weighted avg      0.776     0.789     0.778      1055\n",
            "\n",
            "ROC-AUC: 0.8202617083689665\n"
          ]
        }
      ],
      "source": [
        "from sklearn.pipeline import Pipeline\n",
        "from sklearn.linear_model import LogisticRegression\n",
        "from sklearn.ensemble import RandomForestClassifier\n",
        "from sklearn.metrics import classification_report, roc_auc_score\n",
        "\n",
        "logreg = Pipeline([('prep', preprocess),\n",
        "                   ('clf', LogisticRegression(max_iter=200, class_weight='balanced', random_state=RANDOM_STATE))])\n",
        "\n",
        "rf = Pipeline([('prep', preprocess),\n",
        "               ('clf', RandomForestClassifier(n_estimators=300, max_depth=None, random_state=RANDOM_STATE, class_weight='balanced'))])\n",
        "\n",
        "logreg.fit(X_train, y_train)\n",
        "rf.fit(X_train, y_train)\n",
        "\n",
        "def eval_model(model, Xv, yv, name=\"model\"):\n",
        "    pred = model.predict(Xv)\n",
        "    proba = model.predict_proba(Xv)[:,1]\n",
        "    print(f\"\\n=== {name} VALIDATION ===\")\n",
        "    print(classification_report(yv, pred, digits=3))\n",
        "    print(\"ROC-AUC:\", roc_auc_score(yv, proba))\n",
        "\n",
        "eval_model(logreg, X_valid, y_valid, \"LogReg\")\n",
        "eval_model(rf, X_valid, y_valid, \"RandomForest\")"
      ]
    },
    {
      "cell_type": "markdown",
      "id": "1294a7ec",
      "metadata": {
        "id": "1294a7ec"
      },
      "source": [
        "## 5) Evaluation (Test Set)\n",
        "Pick the better model (usually RF here) and evaluate on the **hold-out test set**. Plot ROC & PR curves and confusion matrix."
      ]
    },
    {
      "cell_type": "code",
      "execution_count": 8,
      "id": "6d767a88",
      "metadata": {
        "colab": {
          "base_uri": "https://localhost:8080/",
          "height": 1000
        },
        "id": "6d767a88",
        "outputId": "218a52a2-c690-4319-e5d6-d903e879f9ff"
      },
      "outputs": [
        {
          "output_type": "stream",
          "name": "stdout",
          "text": [
            "=== TEST REPORT (Chosen Model) ===\n",
            "              precision    recall  f1-score   support\n",
            "\n",
            "           0      0.811     0.885     0.846       775\n",
            "           1      0.574     0.429     0.491       280\n",
            "\n",
            "    accuracy                          0.764      1055\n",
            "   macro avg      0.693     0.657     0.669      1055\n",
            "weighted avg      0.748     0.764     0.752      1055\n",
            "\n",
            "TEST ROC-AUC: 0.8007972350230415\n"
          ]
        },
        {
          "output_type": "display_data",
          "data": {
            "text/plain": [
              "<Figure size 640x480 with 1 Axes>"
            ],
            "image/png": "[encoded data removed]"
          },
          "metadata": {}
        },
        {
          "output_type": "display_data",
          "data": {
            "text/plain": [
              "<Figure size 640x480 with 1 Axes>"
            ],
            "image/png": "[encoded data removed]"
          },
          "metadata": {}
        },
        {
          "output_type": "display_data",
          "data": {
            "text/plain": [
              "<Figure size 640x480 with 2 Axes>"
            ],
            "image/png": "[encoded data removed]"
          },
          "metadata": {}
        }
      ],
      "source": [
        "from sklearn.metrics import RocCurveDisplay, PrecisionRecallDisplay, ConfusionMatrixDisplay, roc_auc_score\n",
        "import matplotlib.pyplot as plt\n",
        "\n",
        "best = rf  # if Logistic looked better on VALIDATION, you can switch to logreg\n",
        "y_pred = best.predict(X_test)\n",
        "y_proba = best.predict_proba(X_test)[:,1]\n",
        "\n",
        "print(\"=== TEST REPORT (Chosen Model) ===\")\n",
        "from sklearn.metrics import classification_report\n",
        "print(classification_report(y_test, y_pred, digits=3))\n",
        "print(\"TEST ROC-AUC:\", roc_auc_score(y_test, y_proba))\n",
        "\n",
        "RocCurveDisplay.from_predictions(y_test, y_proba)\n",
        "plt.show()\n",
        "\n",
        "PrecisionRecallDisplay.from_predictions(y_test, y_proba)\n",
        "plt.show()\n",
        "\n",
        "ConfusionMatrixDisplay.from_predictions(y_test, y_pred)\n",
        "plt.show()"
      ]
    },
    {
      "cell_type": "markdown",
      "id": "3f1ece1a",
      "metadata": {
        "id": "3f1ece1a"
      },
      "source": [
        "## 6) Deployment (Simple Scoring Function + Save Model)\n",
        "Export the trained pipeline and provide a tiny function to score a **new customer** record (Python dict)."
      ]
    },
    {
      "cell_type": "code",
      "execution_count": 9,
      "id": "23235783",
      "metadata": {
        "colab": {
          "base_uri": "https://localhost:8080/"
        },
        "id": "23235783",
        "outputId": "6d05503b-8fbe-4088-c58a-7b1e6bc2f2c2"
      },
      "outputs": [
        {
          "output_type": "stream",
          "name": "stdout",
          "text": [
            "💾 Saved model: telco_churn_model.joblib\n",
            "Example features: {'gender': 'Female', 'SeniorCitizen': 0, 'Partner': 'No', 'Dependents': 'No', 'tenure': 13, 'PhoneService': 'Yes', 'MultipleLines': 'No', 'InternetService': 'Fiber optic', 'OnlineSecurity': 'No', 'OnlineBackup': 'Yes', 'DeviceProtection': 'No', 'TechSupport': 'No', 'StreamingTV': 'No', 'StreamingMovies': 'No', 'Contract': 'One year', 'PaperlessBilling': 'Yes', 'PaymentMethod': 'Mailed check', 'MonthlyCharges': 74.65, 'TotalCharges': 966.25}\n",
            "Predicted churn probability: 0.23333333333333334\n",
            "✅ CRISP-DM pipeline complete!\n"
          ]
        }
      ],
      "source": [
        "import joblib\n",
        "joblib.dump(best, \"telco_churn_model.joblib\")\n",
        "print(\"💾 Saved model: telco_churn_model.joblib\")\n",
        "\n",
        "# Example single prediction\n",
        "example = X_test.iloc[0].to_dict()\n",
        "print(\"Example features:\", example)\n",
        "\n",
        "def predict_single(d):\n",
        "    import pandas as pd\n",
        "    Xone = pd.DataFrame([d])\n",
        "    return float(best.predict_proba(Xone)[:,1])\n",
        "\n",
        "print(\"Predicted churn probability:\", predict_single(example))\n",
        "print(\"✅ CRISP-DM pipeline complete!\")"
      ]
    },
    {
      "cell_type": "markdown",
      "id": "1202666a",
      "metadata": {
        "id": "1202666a"
      },
      "source": [
        "---\n",
        "### 🔍 (Optional, but recommended) Ask an AI to critique each phase\n",
        "Copy-paste this prompt into your favorite LLM and paste your artifacts for review:\n",
        "\n",
        "> *\"Act as a world-renowned authority on CRISP-DM who has authored award-winning books. Ruthlessly critique my **Business Understanding / Data Understanding / Data Preparation / Modeling / Evaluation / Deployment** artifacts for completeness, rigor, leakage risks, and monitoring gaps. Provide an action-prioritized fix list with concrete examples.\"*"
      ]
    }
  ],
  "metadata": {
    "colab": {
      "provenance": [],
      "machine_shape": "hm",
      "gpuType": "T4",
      "include_colab_link": true
    },
    "accelerator": "GPU",
    "language_info": {
      "name": "python"
    },
    "kernelspec": {
      "name": "python3",
      "display_name": "Python 3"
    }
  },
  "nbformat": 4,
  "nbformat_minor": 5
}